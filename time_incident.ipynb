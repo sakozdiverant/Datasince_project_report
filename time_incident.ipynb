{
 "cells": [
  {
   "cell_type": "code",
   "execution_count": 18,
   "id": "06d22b45-28a0-43cd-baee-7bc83ba30a6e",
   "metadata": {},
   "outputs": [],
   "source": [
    "import pandas as pd\n",
    "import numpy as np\n",
    "import seaborn as sns\n",
    "import matplotlib.pyplot as plt\n",
    "from datetime import datetime"
   ]
  },
  {
   "cell_type": "code",
   "execution_count": 3,
   "id": "9d023fbb-4843-482a-b3ff-05ae3c6be8ea",
   "metadata": {},
   "outputs": [],
   "source": [
    "df = pd.read_excel('/media/D/musor/reportsd.xls')"
   ]
  },
  {
   "cell_type": "code",
   "execution_count": 4,
   "id": "81e0d156-98f2-4087-a23c-8aa7f388b609",
   "metadata": {},
   "outputs": [
    {
     "data": {
      "text/html": [
       "<div>\n",
       "<style scoped>\n",
       "    .dataframe tbody tr th:only-of-type {\n",
       "        vertical-align: middle;\n",
       "    }\n",
       "\n",
       "    .dataframe tbody tr th {\n",
       "        vertical-align: top;\n",
       "    }\n",
       "\n",
       "    .dataframe thead th {\n",
       "        text-align: right;\n",
       "    }\n",
       "</style>\n",
       "<table border=\"1\" class=\"dataframe\">\n",
       "  <thead>\n",
       "    <tr style=\"text-align: right;\">\n",
       "      <th></th>\n",
       "      <th>Номер</th>\n",
       "      <th>Ticket#</th>\n",
       "      <th>Возраст</th>\n",
       "      <th>Название</th>\n",
       "      <th>Дата создания</th>\n",
       "      <th>Время закрытия</th>\n",
       "      <th>Очередь</th>\n",
       "      <th>Состояние</th>\n",
       "      <th>ID клиента</th>\n",
       "      <th>Сервис</th>\n",
       "      <th>...</th>\n",
       "      <th>Источник</th>\n",
       "      <th>Причина отклонения</th>\n",
       "      <th>Оценка</th>\n",
       "      <th>Информационная система</th>\n",
       "      <th>Причина обращения</th>\n",
       "      <th>Имя Фамилия</th>\n",
       "      <th>Отдел/Отделение</th>\n",
       "      <th>Требуется выезд СА (уведомление директору)</th>\n",
       "      <th>Текст обращения</th>\n",
       "      <th>TestText2</th>\n",
       "    </tr>\n",
       "  </thead>\n",
       "  <tbody>\n",
       "    <tr>\n",
       "      <th>0</th>\n",
       "      <td>1</td>\n",
       "      <td>20231027100068</td>\n",
       "      <td>9 m</td>\n",
       "      <td>принтер</td>\n",
       "      <td>2023-10-27 10:35:12</td>\n",
       "      <td>NaN</td>\n",
       "      <td>Кызылординский филиал Техподдержка</td>\n",
       "      <td>in progress</td>\n",
       "      <td>KZF</td>\n",
       "      <td>10 ИТ-поддержка филиалов::10R_1 Поддержка Поль...</td>\n",
       "      <td>...</td>\n",
       "      <td>Email</td>\n",
       "      <td>NaN</td>\n",
       "      <td>NaN</td>\n",
       "      <td>NaN</td>\n",
       "      <td>NaN</td>\n",
       "      <td>Күнекей Ерлан</td>\n",
       "      <td>_Отделения</td>\n",
       "      <td>NaN</td>\n",
       "      <td>NaN</td>\n",
       "      <td>NaN</td>\n",
       "    </tr>\n",
       "    <tr>\n",
       "      <th>1</th>\n",
       "      <td>2</td>\n",
       "      <td>20231027100066</td>\n",
       "      <td>14 m</td>\n",
       "      <td>картридж</td>\n",
       "      <td>2023-10-27 10:30:11</td>\n",
       "      <td>NaN</td>\n",
       "      <td>Жамбылский филиал Техподдержка</td>\n",
       "      <td>in progress</td>\n",
       "      <td>TF</td>\n",
       "      <td>10 ИТ-поддержка филиалов::10R_1 Поддержка Поль...</td>\n",
       "      <td>...</td>\n",
       "      <td>Email</td>\n",
       "      <td>NaN</td>\n",
       "      <td>NaN</td>\n",
       "      <td>NaN</td>\n",
       "      <td>NaN</td>\n",
       "      <td>Ерасыл Сартай</td>\n",
       "      <td>_Отделения</td>\n",
       "      <td>NaN</td>\n",
       "      <td>NaN</td>\n",
       "      <td>NaN</td>\n",
       "    </tr>\n",
       "    <tr>\n",
       "      <th>2</th>\n",
       "      <td>3</td>\n",
       "      <td>20231027100061</td>\n",
       "      <td>17 m</td>\n",
       "      <td>В кассе отд. Саумалколь начал \"зависать\" скане...</td>\n",
       "      <td>2023-10-27 10:27:54</td>\n",
       "      <td>NaN</td>\n",
       "      <td>Акмолинский филиал Техподдержка</td>\n",
       "      <td>in progress</td>\n",
       "      <td>KSHF</td>\n",
       "      <td>10 ИТ-поддержка филиалов::10R_1 Поддержка Поль...</td>\n",
       "      <td>...</td>\n",
       "      <td>Phone</td>\n",
       "      <td>NaN</td>\n",
       "      <td>NaN</td>\n",
       "      <td>NaN</td>\n",
       "      <td>NaN</td>\n",
       "      <td>Ольга Анналыева</td>\n",
       "      <td>_Отделения</td>\n",
       "      <td>NaN</td>\n",
       "      <td>NaN</td>\n",
       "      <td>NaN</td>\n",
       "    </tr>\n",
       "    <tr>\n",
       "      <th>3</th>\n",
       "      <td>4</td>\n",
       "      <td>20231027100059</td>\n",
       "      <td>24 m</td>\n",
       "      <td>Обновление до Win11 ПК видеонаблюдения с кабин...</td>\n",
       "      <td>2023-10-27 10:20:47</td>\n",
       "      <td>2023-10-27 10:21:19</td>\n",
       "      <td>Акмолинский филиал Техподдержка</td>\n",
       "      <td>closed</td>\n",
       "      <td>KSHF</td>\n",
       "      <td>10 ИТ-поддержка филиалов::10R_8 Прочее</td>\n",
       "      <td>...</td>\n",
       "      <td>Phone</td>\n",
       "      <td>NaN</td>\n",
       "      <td>NaN</td>\n",
       "      <td>NaN</td>\n",
       "      <td>NaN</td>\n",
       "      <td>Захар Ровенский</td>\n",
       "      <td>(32) Отдел информационных технологий</td>\n",
       "      <td>NaN</td>\n",
       "      <td>NaN</td>\n",
       "      <td>NaN</td>\n",
       "    </tr>\n",
       "    <tr>\n",
       "      <th>4</th>\n",
       "      <td>5</td>\n",
       "      <td>20231027100054</td>\n",
       "      <td>29 m</td>\n",
       "      <td>RE: проблема с нклайер</td>\n",
       "      <td>2023-10-27 10:15:26</td>\n",
       "      <td>NaN</td>\n",
       "      <td>Кызылординский филиал Техподдержка</td>\n",
       "      <td>in progress</td>\n",
       "      <td>KZF</td>\n",
       "      <td>10 ИТ-поддержка филиалов::10R_1 Поддержка Поль...</td>\n",
       "      <td>...</td>\n",
       "      <td>Email</td>\n",
       "      <td>NaN</td>\n",
       "      <td>NaN</td>\n",
       "      <td>NaN</td>\n",
       "      <td>NaN</td>\n",
       "      <td>Нурбол Бегманов</td>\n",
       "      <td>(41) Отдел по работе с проблемными кредитами</td>\n",
       "      <td>NaN</td>\n",
       "      <td>NaN</td>\n",
       "      <td>NaN</td>\n",
       "    </tr>\n",
       "    <tr>\n",
       "      <th>5</th>\n",
       "      <td>6</td>\n",
       "      <td>20231027100043</td>\n",
       "      <td>46 m</td>\n",
       "      <td>Инцидент на хосте PF_Alga_188_wall</td>\n",
       "      <td>2023-10-27 09:58:55</td>\n",
       "      <td>2023-10-27 10:36:34</td>\n",
       "      <td>Павлодарский филиал Техподдержка</td>\n",
       "      <td>closed</td>\n",
       "      <td>HQ</td>\n",
       "      <td>10 ИТ-поддержка филиалов::10I_4 Платежные терм...</td>\n",
       "      <td>...</td>\n",
       "      <td>Phone</td>\n",
       "      <td>NaN</td>\n",
       "      <td>NaN</td>\n",
       "      <td>NaN</td>\n",
       "      <td>NaN</td>\n",
       "      <td>Никита Шмидт</td>\n",
       "      <td>(0914) Отдел мониторинга</td>\n",
       "      <td>NaN</td>\n",
       "      <td>NaN</td>\n",
       "      <td>NaN</td>\n",
       "    </tr>\n",
       "  </tbody>\n",
       "</table>\n",
       "<p>6 rows × 28 columns</p>\n",
       "</div>"
      ],
      "text/plain": [
       "   Номер         Ticket# Возраст  \\\n",
       "0      1  20231027100068     9 m   \n",
       "1      2  20231027100066    14 m   \n",
       "2      3  20231027100061    17 m   \n",
       "3      4  20231027100059    24 m   \n",
       "4      5  20231027100054    29 m   \n",
       "5      6  20231027100043    46 m   \n",
       "\n",
       "                                            Название        Дата создания  \\\n",
       "0                                            принтер  2023-10-27 10:35:12   \n",
       "1                                           картридж  2023-10-27 10:30:11   \n",
       "2  В кассе отд. Саумалколь начал \"зависать\" скане...  2023-10-27 10:27:54   \n",
       "3  Обновление до Win11 ПК видеонаблюдения с кабин...  2023-10-27 10:20:47   \n",
       "4                             RE: проблема с нклайер  2023-10-27 10:15:26   \n",
       "5                 Инцидент на хосте PF_Alga_188_wall  2023-10-27 09:58:55   \n",
       "\n",
       "        Время закрытия                             Очередь    Состояние  \\\n",
       "0                  NaN  Кызылординский филиал Техподдержка  in progress   \n",
       "1                  NaN      Жамбылский филиал Техподдержка  in progress   \n",
       "2                  NaN     Акмолинский филиал Техподдержка  in progress   \n",
       "3  2023-10-27 10:21:19     Акмолинский филиал Техподдержка       closed   \n",
       "4                  NaN  Кызылординский филиал Техподдержка  in progress   \n",
       "5  2023-10-27 10:36:34    Павлодарский филиал Техподдержка       closed   \n",
       "\n",
       "  ID клиента                                             Сервис  ... Источник  \\\n",
       "0        KZF  10 ИТ-поддержка филиалов::10R_1 Поддержка Поль...  ...    Email   \n",
       "1         TF  10 ИТ-поддержка филиалов::10R_1 Поддержка Поль...  ...    Email   \n",
       "2       KSHF  10 ИТ-поддержка филиалов::10R_1 Поддержка Поль...  ...    Phone   \n",
       "3       KSHF             10 ИТ-поддержка филиалов::10R_8 Прочее  ...    Phone   \n",
       "4        KZF  10 ИТ-поддержка филиалов::10R_1 Поддержка Поль...  ...    Email   \n",
       "5         HQ  10 ИТ-поддержка филиалов::10I_4 Платежные терм...  ...    Phone   \n",
       "\n",
       "  Причина отклонения Оценка  Информационная система Причина обращения  \\\n",
       "0                NaN    NaN                     NaN               NaN   \n",
       "1                NaN    NaN                     NaN               NaN   \n",
       "2                NaN    NaN                     NaN               NaN   \n",
       "3                NaN    NaN                     NaN               NaN   \n",
       "4                NaN    NaN                     NaN               NaN   \n",
       "5                NaN    NaN                     NaN               NaN   \n",
       "\n",
       "       Имя Фамилия                               Отдел/Отделение  \\\n",
       "0    Күнекей Ерлан                                    _Отделения   \n",
       "1    Ерасыл Сартай                                    _Отделения   \n",
       "2  Ольга Анналыева                                    _Отделения   \n",
       "3  Захар Ровенский          (32) Отдел информационных технологий   \n",
       "4  Нурбол Бегманов  (41) Отдел по работе с проблемными кредитами   \n",
       "5     Никита Шмидт                      (0914) Отдел мониторинга   \n",
       "\n",
       "   Требуется выезд СА (уведомление директору) Текст обращения TestText2  \n",
       "0                                         NaN             NaN       NaN  \n",
       "1                                         NaN             NaN       NaN  \n",
       "2                                         NaN             NaN       NaN  \n",
       "3                                         NaN             NaN       NaN  \n",
       "4                                         NaN             NaN       NaN  \n",
       "5                                         NaN             NaN       NaN  \n",
       "\n",
       "[6 rows x 28 columns]"
      ]
     },
     "execution_count": 4,
     "metadata": {},
     "output_type": "execute_result"
    }
   ],
   "source": [
    "df.head(6)\n"
   ]
  },
  {
   "cell_type": "code",
   "execution_count": 10,
   "id": "6cede23e-ed7d-4af5-8f4b-98f176a214a4",
   "metadata": {},
   "outputs": [
    {
     "data": {
      "text/plain": [
       "0                        NaN\n",
       "1                        NaN\n",
       "2                        NaN\n",
       "3        2023-10-27 10:21:19\n",
       "4                        NaN\n",
       "                ...         \n",
       "13164    2023-01-04 12:24:56\n",
       "13165    2023-01-06 12:27:58\n",
       "13166    2023-01-06 12:27:20\n",
       "13167    2023-01-06 12:26:43\n",
       "13168    2023-01-06 12:26:08\n",
       "Name: Время закрытия, Length: 13169, dtype: object"
      ]
     },
     "execution_count": 10,
     "metadata": {},
     "output_type": "execute_result"
    }
   ],
   "source": [
    "df['Время закрытия']"
   ]
  },
  {
   "cell_type": "code",
   "execution_count": 8,
   "id": "c178df81-8774-4389-95e2-df17ca0812d5",
   "metadata": {},
   "outputs": [],
   "source": [
    "df['Дата создания'] = pd.to_datetime(df['Дата создания'])"
   ]
  },
  {
   "cell_type": "code",
   "execution_count": 22,
   "id": "16436929-b0ae-4f93-9e89-c9ba22e8d0e9",
   "metadata": {},
   "outputs": [],
   "source": [
    "current_date = datetime.now()\n",
    "df['Время закрытия'] = pd.to_datetime(df['Время закрытия'], errors='coerce').fillna(current_date)\n",
    "df['Время закрытия'] = pd.to_datetime(df['Время закрытия'], format='%Y-%m-%d %H:%M:%S.%f', errors='coerce')\n",
    "df['Время закрытия'] = df['Время закрытия'].dt.round('1s')"
   ]
  },
  {
   "cell_type": "code",
   "execution_count": 23,
   "id": "2b34711b-466d-4345-80a4-5289d33a619e",
   "metadata": {},
   "outputs": [
    {
     "data": {
      "text/plain": [
       "0       2023-10-27 11:37:34\n",
       "1       2023-10-27 11:37:34\n",
       "2       2023-10-27 11:37:34\n",
       "3       2023-10-27 10:21:19\n",
       "4       2023-10-27 11:37:34\n",
       "                ...        \n",
       "13164   2023-01-04 12:24:56\n",
       "13165   2023-01-06 12:27:58\n",
       "13166   2023-01-06 12:27:20\n",
       "13167   2023-01-06 12:26:43\n",
       "13168   2023-01-06 12:26:08\n",
       "Name: Время закрытия, Length: 13169, dtype: datetime64[ns]"
      ]
     },
     "execution_count": 23,
     "metadata": {},
     "output_type": "execute_result"
    }
   ],
   "source": [
    "df['Время закрытия']"
   ]
  },
  {
   "cell_type": "code",
   "execution_count": 24,
   "id": "84254608-26b9-4ac9-8988-fc7b204d72fc",
   "metadata": {},
   "outputs": [
    {
     "data": {
      "text/plain": [
       "0       2023-10-27 10:35:12\n",
       "1       2023-10-27 10:30:11\n",
       "2       2023-10-27 10:27:54\n",
       "3       2023-10-27 10:20:47\n",
       "4       2023-10-27 10:15:26\n",
       "                ...        \n",
       "13164   2023-01-01 06:05:20\n",
       "13165   2023-01-01 06:05:18\n",
       "13166   2023-01-01 06:05:17\n",
       "13167   2023-01-01 06:05:16\n",
       "13168   2023-01-01 06:00:15\n",
       "Name: Дата создания, Length: 13169, dtype: datetime64[ns]"
      ]
     },
     "execution_count": 24,
     "metadata": {},
     "output_type": "execute_result"
    }
   ],
   "source": [
    "df['Дата создания']"
   ]
  },
  {
   "cell_type": "code",
   "execution_count": 27,
   "id": "9fcc65f1-98a8-44d3-b3fa-4d1e43838eb4",
   "metadata": {},
   "outputs": [],
   "source": [
    "df['time'] = df['Время закрытия'] - df['Дата создания']"
   ]
  },
  {
   "cell_type": "code",
   "execution_count": 28,
   "id": "735e1673-9560-4c78-a177-fef4eedee29d",
   "metadata": {},
   "outputs": [
    {
     "data": {
      "text/plain": [
       "0       0 days 01:02:22\n",
       "1       0 days 01:07:23\n",
       "2       0 days 01:09:40\n",
       "3       0 days 00:00:32\n",
       "4       0 days 01:22:08\n",
       "              ...      \n",
       "13164   3 days 06:19:36\n",
       "13165   5 days 06:22:40\n",
       "13166   5 days 06:22:03\n",
       "13167   5 days 06:21:27\n",
       "13168   5 days 06:25:53\n",
       "Name: time, Length: 13169, dtype: timedelta64[ns]"
      ]
     },
     "execution_count": 28,
     "metadata": {},
     "output_type": "execute_result"
    }
   ],
   "source": [
    "df['time']"
   ]
  },
  {
   "cell_type": "code",
   "execution_count": 106,
   "id": "68b6d2c0-12f1-477b-9871-9b420990bcbf",
   "metadata": {},
   "outputs": [
    {
     "data": {
      "text/plain": [
       "0        False\n",
       "1        False\n",
       "2        False\n",
       "3        False\n",
       "4        False\n",
       "         ...  \n",
       "13164     True\n",
       "13165     True\n",
       "13166     True\n",
       "13167     True\n",
       "13168     True\n",
       "Name: Тип, Length: 13169, dtype: bool"
      ]
     },
     "execution_count": 106,
     "metadata": {},
     "output_type": "execute_result"
    }
   ],
   "source": [
    "df['Тип'] == 'Инцидент'"
   ]
  },
  {
   "cell_type": "code",
   "execution_count": 107,
   "id": "59d6648c-4450-4fc8-9a8c-102a6a44aa0e",
   "metadata": {},
   "outputs": [],
   "source": [
    "mean_time = df[df['Тип'] == 'Инцидент'].groupby('Агент (владелец)')['time'].mean()"
   ]
  },
  {
   "cell_type": "code",
   "execution_count": 108,
   "id": "68ce40d2-4f5c-4e44-847c-7cad4e700c15",
   "metadata": {},
   "outputs": [
    {
     "data": {
      "text/plain": [
       "Агент (владелец)\n",
       "Алишер Саяков                      0 days 00:52:25\n",
       "Дмитрий Ермаченко        0 days 05:14:30.659574468\n",
       "Александр Гурьев         0 days 08:00:51.872093023\n",
       "Мамбетай Жаутаев         0 days 10:23:42.791855203\n",
       "Александр Гильдебранд              0 days 11:38:57\n",
       "Серик Карпанбаев         0 days 17:35:01.222222222\n",
       "Жанболат Жеңісбек        0 days 20:49:07.067567567\n",
       "Ярослав Латыпов          0 days 20:55:03.785714285\n",
       "Азизбек Хамидов          1 days 02:19:33.388349514\n",
       "Сергей Яснопольский         1 days 03:27:19.437500\n",
       "Антон Столяров           1 days 04:42:55.678321678\n",
       "Тимур Пулатов            1 days 06:20:06.066666666\n",
       "Сергей Бирюков              1 days 07:04:32.150000\n",
       "Рустам Салкенов          1 days 08:41:46.038461538\n",
       "Абай Пирназаров                    1 days 09:59:29\n",
       "Владимир Демин           1 days 11:26:29.716049382\n",
       "Алинур Жаркимбаев        1 days 11:59:24.428571428\n",
       "Ринал Чуканов            1 days 12:54:14.248447204\n",
       "Адлан Закирьянов            1 days 13:15:25.625000\n",
       "Вадим Васильев           1 days 20:51:30.596774193\n",
       "Руслан Исмаилов          1 days 21:56:48.331210191\n",
       "Айдын Джакашев           2 days 00:09:14.146551724\n",
       "Рустам Артыков           2 days 01:23:47.547861507\n",
       "Захар Ровенский          2 days 03:16:29.032258064\n",
       "Антон Новиков            2 days 05:31:21.493827160\n",
       "Ислам Бекқұл             2 days 10:37:27.355932203\n",
       "Келімбет Қадырбек        2 days 12:23:59.980769230\n",
       "Байел Кененбаев          2 days 19:38:54.682352941\n",
       "Арман Жұбатыр            3 days 02:54:43.443396226\n",
       "Нурлан Сагындык          3 days 03:59:40.497757847\n",
       "Ерболат Бимаханов        3 days 06:54:33.304932735\n",
       "Асет Ербулатов              4 days 03:53:31.625000\n",
       "Арман Буранов            4 days 08:03:03.886075949\n",
       "Александр Кириченко      5 days 05:23:31.920765027\n",
       "Алибек Тухбаев           5 days 12:10:06.042105263\n",
       "Нұрлан Рауан                       8 days 00:34:46\n",
       "Сергей Рябов            26 days 21:38:09.475862069\n",
       "Сабыржан Иртазин        31 days 00:37:54.222222222\n",
       "Не назначена               52 days 21:48:44.080000\n",
       "Айнур Орынтаева                  280 days 15:22:14\n",
       "Name: time, dtype: timedelta64[ns]"
      ]
     },
     "execution_count": 108,
     "metadata": {},
     "output_type": "execute_result"
    }
   ],
   "source": [
    "mean_time.sort_values()"
   ]
  },
  {
   "cell_type": "code",
   "execution_count": 109,
   "id": "46464730-3077-4f49-b3d4-23c234e8cfa0",
   "metadata": {},
   "outputs": [],
   "source": [
    "df1 = pd.DataFrame(mean_time)"
   ]
  },
  {
   "cell_type": "code",
   "execution_count": 110,
   "id": "5feeeb57-d823-4201-9c20-c05c0ffb3c59",
   "metadata": {},
   "outputs": [],
   "source": [
    "df1['time'] = df1['time'].apply(lambda x: x.total_seconds() / 3600 / 24)"
   ]
  },
  {
   "cell_type": "code",
   "execution_count": 111,
   "id": "c75e453f-1a5d-4821-a4e6-f0e47cb256b6",
   "metadata": {},
   "outputs": [],
   "source": [
    "df1 = df1.sort_values(by='time')"
   ]
  },
  {
   "cell_type": "code",
   "execution_count": 112,
   "id": "332e00f8-9ff8-42b6-a44c-578df6595bfd",
   "metadata": {},
   "outputs": [
    {
     "data": {
      "text/plain": [
       "Агент (владелец)\n",
       "Алишер Саяков              0.036400\n",
       "Дмитрий Ермаченко          0.218410\n",
       "Александр Гурьев           0.333934\n",
       "Мамбетай Жаутаев           0.433134\n",
       "Александр Гильдебранд      0.485382\n",
       "Серик Карпанбаев           0.732653\n",
       "Жанболат Жеңісбек          0.867443\n",
       "Ярослав Латыпов            0.871572\n",
       "Азизбек Хамидов            1.096914\n",
       "Сергей Яснопольский        1.143975\n",
       "Антон Столяров             1.196478\n",
       "Тимур Пулатов              1.263959\n",
       "Сергей Бирюков             1.294817\n",
       "Рустам Салкенов            1.362338\n",
       "Абай Пирназаров            1.416308\n",
       "Владимир Демин             1.476733\n",
       "Алинур Жаркимбаев          1.499588\n",
       "Ринал Чуканов              1.537665\n",
       "Адлан Закирьянов           1.552380\n",
       "Вадим Васильев             1.869104\n",
       "Руслан Исмаилов            1.914448\n",
       "Айдын Джакашев             2.006414\n",
       "Рустам Артыков             2.058189\n",
       "Захар Ровенский            2.136447\n",
       "Антон Новиков              2.230110\n",
       "Ислам Бекқұл               2.442678\n",
       "Келімбет Қадырбек          2.516666\n",
       "Байел Кененбаев            2.818688\n",
       "Арман Жұбатыр              3.121336\n",
       "Нурлан Сагындык            3.166441\n",
       "Ерболат Бимаханов          3.287885\n",
       "Асет Ербулатов             4.162172\n",
       "Арман Буранов              4.335462\n",
       "Александр Кириченко        5.224675\n",
       "Алибек Тухбаев             5.507014\n",
       "Нұрлан Рауан               8.024144\n",
       "Сергей Рябов              26.901499\n",
       "Сабыржан Иртазин          31.026322\n",
       "Не назначена              52.908844\n",
       "Айнур Орынтаева          280.640440\n",
       "Name: time, dtype: float64"
      ]
     },
     "execution_count": 112,
     "metadata": {},
     "output_type": "execute_result"
    }
   ],
   "source": [
    "df1['time']"
   ]
  },
  {
   "cell_type": "code",
   "execution_count": 113,
   "id": "8a9b0175-b8f7-49a2-85e4-3d82be900617",
   "metadata": {},
   "outputs": [
    {
     "data": {
      "text/plain": [
       "<function matplotlib.pyplot.show(close=None, block=None)>"
      ]
     },
     "execution_count": 113,
     "metadata": {},
     "output_type": "execute_result"
    },
    {
     "data": {
      "image/png": "[encoded data removed]",
      "text/plain": [
       "<Figure size 640x480 with 1 Axes>"
      ]
     },
     "metadata": {},
     "output_type": "display_data"
    }
   ],
   "source": [
    "sns.barplot(x=df1.index, y=df1['time'])\n",
    "#plt.ylabel('Часы работы')\n",
    "plt.xticks(rotation=90)\n",
    "plt.ylim(0, 10)\n",
    "plt.savefig('/media/D/musor/graphik.png', bbox_inches='tight')\n",
    "plt.show"
   ]
  },
  {
   "cell_type": "code",
   "execution_count": null,
   "id": "89fe1ade-50ae-4a58-8306-72c1e35d3417",
   "metadata": {},
   "outputs": [],
   "source": []
  }
 ],
 "metadata": {
  "kernelspec": {
   "display_name": "Python 3 (ipykernel)",
   "language": "python",
   "name": "python3"
  },
  "language_info": {
   "codemirror_mode": {
    "name": "ipython",
    "version": 3
   },
   "file_extension": ".py",
   "mimetype": "text/x-python",
   "name": "python",
   "nbconvert_exporter": "python",
   "pygments_lexer": "ipython3",
   "version": "3.10.12"
  }
 },
 "nbformat": 4,
 "nbformat_minor": 5
}
