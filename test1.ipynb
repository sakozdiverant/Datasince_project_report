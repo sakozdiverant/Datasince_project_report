{
 "cells": [
  {
   "cell_type": "code",
   "execution_count": 1,
   "id": "6fcbfdfd",
   "metadata": {},
   "outputs": [],
   "source": [
    "import pandas as pd\n",
    "import numpy as np"
   ]
  },
  {
   "cell_type": "code",
   "execution_count": 2,
   "id": "78b5d153",
   "metadata": {},
   "outputs": [
    {
     "ename": "FileNotFoundError",
     "evalue": "[Errno 2] No such file or directory: '/media/D/musor/123.xls'",
     "output_type": "error",
     "traceback": [
      "\u001b[0;31m---------------------------------------------------------------------------\u001b[0m",
      "\u001b[0;31mFileNotFoundError\u001b[0m                         Traceback (most recent call last)",
      "Cell \u001b[0;32mIn[2], line 1\u001b[0m\n\u001b[0;32m----> 1\u001b[0m df \u001b[38;5;241m=\u001b[39m \u001b[43mpd\u001b[49m\u001b[38;5;241;43m.\u001b[39;49m\u001b[43mread_excel\u001b[49m\u001b[43m(\u001b[49m\u001b[38;5;124;43m'\u001b[39;49m\u001b[38;5;124;43m/media/D/musor/123.xls\u001b[39;49m\u001b[38;5;124;43m'\u001b[39;49m\u001b[43m)\u001b[49m\n",
      "File \u001b[0;32m~/.local/lib/python3.11/site-packages/pandas/io/excel/_base.py:478\u001b[0m, in \u001b[0;36mread_excel\u001b[0;34m(io, sheet_name, header, names, index_col, usecols, dtype, engine, converters, true_values, false_values, skiprows, nrows, na_values, keep_default_na, na_filter, verbose, parse_dates, date_parser, date_format, thousands, decimal, comment, skipfooter, storage_options, dtype_backend)\u001b[0m\n\u001b[1;32m    476\u001b[0m \u001b[38;5;28;01mif\u001b[39;00m \u001b[38;5;129;01mnot\u001b[39;00m \u001b[38;5;28misinstance\u001b[39m(io, ExcelFile):\n\u001b[1;32m    477\u001b[0m     should_close \u001b[38;5;241m=\u001b[39m \u001b[38;5;28;01mTrue\u001b[39;00m\n\u001b[0;32m--> 478\u001b[0m     io \u001b[38;5;241m=\u001b[39m \u001b[43mExcelFile\u001b[49m\u001b[43m(\u001b[49m\u001b[43mio\u001b[49m\u001b[43m,\u001b[49m\u001b[43m \u001b[49m\u001b[43mstorage_options\u001b[49m\u001b[38;5;241;43m=\u001b[39;49m\u001b[43mstorage_options\u001b[49m\u001b[43m,\u001b[49m\u001b[43m \u001b[49m\u001b[43mengine\u001b[49m\u001b[38;5;241;43m=\u001b[39;49m\u001b[43mengine\u001b[49m\u001b[43m)\u001b[49m\n\u001b[1;32m    479\u001b[0m \u001b[38;5;28;01melif\u001b[39;00m engine \u001b[38;5;129;01mand\u001b[39;00m engine \u001b[38;5;241m!=\u001b[39m io\u001b[38;5;241m.\u001b[39mengine:\n\u001b[1;32m    480\u001b[0m     \u001b[38;5;28;01mraise\u001b[39;00m \u001b[38;5;167;01mValueError\u001b[39;00m(\n\u001b[1;32m    481\u001b[0m         \u001b[38;5;124m\"\u001b[39m\u001b[38;5;124mEngine should not be specified when passing \u001b[39m\u001b[38;5;124m\"\u001b[39m\n\u001b[1;32m    482\u001b[0m         \u001b[38;5;124m\"\u001b[39m\u001b[38;5;124man ExcelFile - ExcelFile already has the engine set\u001b[39m\u001b[38;5;124m\"\u001b[39m\n\u001b[1;32m    483\u001b[0m     )\n",
      "File \u001b[0;32m~/.local/lib/python3.11/site-packages/pandas/io/excel/_base.py:1496\u001b[0m, in \u001b[0;36mExcelFile.__init__\u001b[0;34m(self, path_or_buffer, engine, storage_options)\u001b[0m\n\u001b[1;32m   1494\u001b[0m     ext \u001b[38;5;241m=\u001b[39m \u001b[38;5;124m\"\u001b[39m\u001b[38;5;124mxls\u001b[39m\u001b[38;5;124m\"\u001b[39m\n\u001b[1;32m   1495\u001b[0m \u001b[38;5;28;01melse\u001b[39;00m:\n\u001b[0;32m-> 1496\u001b[0m     ext \u001b[38;5;241m=\u001b[39m \u001b[43minspect_excel_format\u001b[49m\u001b[43m(\u001b[49m\n\u001b[1;32m   1497\u001b[0m \u001b[43m        \u001b[49m\u001b[43mcontent_or_path\u001b[49m\u001b[38;5;241;43m=\u001b[39;49m\u001b[43mpath_or_buffer\u001b[49m\u001b[43m,\u001b[49m\u001b[43m \u001b[49m\u001b[43mstorage_options\u001b[49m\u001b[38;5;241;43m=\u001b[39;49m\u001b[43mstorage_options\u001b[49m\n\u001b[1;32m   1498\u001b[0m \u001b[43m    \u001b[49m\u001b[43m)\u001b[49m\n\u001b[1;32m   1499\u001b[0m     \u001b[38;5;28;01mif\u001b[39;00m ext \u001b[38;5;129;01mis\u001b[39;00m \u001b[38;5;28;01mNone\u001b[39;00m:\n\u001b[1;32m   1500\u001b[0m         \u001b[38;5;28;01mraise\u001b[39;00m \u001b[38;5;167;01mValueError\u001b[39;00m(\n\u001b[1;32m   1501\u001b[0m             \u001b[38;5;124m\"\u001b[39m\u001b[38;5;124mExcel file format cannot be determined, you must specify \u001b[39m\u001b[38;5;124m\"\u001b[39m\n\u001b[1;32m   1502\u001b[0m             \u001b[38;5;124m\"\u001b[39m\u001b[38;5;124man engine manually.\u001b[39m\u001b[38;5;124m\"\u001b[39m\n\u001b[1;32m   1503\u001b[0m         )\n",
      "File \u001b[0;32m~/.local/lib/python3.11/site-packages/pandas/io/excel/_base.py:1371\u001b[0m, in \u001b[0;36minspect_excel_format\u001b[0;34m(content_or_path, storage_options)\u001b[0m\n\u001b[1;32m   1368\u001b[0m \u001b[38;5;28;01mif\u001b[39;00m \u001b[38;5;28misinstance\u001b[39m(content_or_path, \u001b[38;5;28mbytes\u001b[39m):\n\u001b[1;32m   1369\u001b[0m     content_or_path \u001b[38;5;241m=\u001b[39m BytesIO(content_or_path)\n\u001b[0;32m-> 1371\u001b[0m \u001b[38;5;28;01mwith\u001b[39;00m \u001b[43mget_handle\u001b[49m\u001b[43m(\u001b[49m\n\u001b[1;32m   1372\u001b[0m \u001b[43m    \u001b[49m\u001b[43mcontent_or_path\u001b[49m\u001b[43m,\u001b[49m\u001b[43m \u001b[49m\u001b[38;5;124;43m\"\u001b[39;49m\u001b[38;5;124;43mrb\u001b[39;49m\u001b[38;5;124;43m\"\u001b[39;49m\u001b[43m,\u001b[49m\u001b[43m \u001b[49m\u001b[43mstorage_options\u001b[49m\u001b[38;5;241;43m=\u001b[39;49m\u001b[43mstorage_options\u001b[49m\u001b[43m,\u001b[49m\u001b[43m \u001b[49m\u001b[43mis_text\u001b[49m\u001b[38;5;241;43m=\u001b[39;49m\u001b[38;5;28;43;01mFalse\u001b[39;49;00m\n\u001b[1;32m   1373\u001b[0m \u001b[43m\u001b[49m\u001b[43m)\u001b[49m \u001b[38;5;28;01mas\u001b[39;00m handle:\n\u001b[1;32m   1374\u001b[0m     stream \u001b[38;5;241m=\u001b[39m handle\u001b[38;5;241m.\u001b[39mhandle\n\u001b[1;32m   1375\u001b[0m     stream\u001b[38;5;241m.\u001b[39mseek(\u001b[38;5;241m0\u001b[39m)\n",
      "File \u001b[0;32m~/.local/lib/python3.11/site-packages/pandas/io/common.py:868\u001b[0m, in \u001b[0;36mget_handle\u001b[0;34m(path_or_buf, mode, encoding, compression, memory_map, is_text, errors, storage_options)\u001b[0m\n\u001b[1;32m    859\u001b[0m         handle \u001b[38;5;241m=\u001b[39m \u001b[38;5;28mopen\u001b[39m(\n\u001b[1;32m    860\u001b[0m             handle,\n\u001b[1;32m    861\u001b[0m             ioargs\u001b[38;5;241m.\u001b[39mmode,\n\u001b[0;32m   (...)\u001b[0m\n\u001b[1;32m    864\u001b[0m             newline\u001b[38;5;241m=\u001b[39m\u001b[38;5;124m\"\u001b[39m\u001b[38;5;124m\"\u001b[39m,\n\u001b[1;32m    865\u001b[0m         )\n\u001b[1;32m    866\u001b[0m     \u001b[38;5;28;01melse\u001b[39;00m:\n\u001b[1;32m    867\u001b[0m         \u001b[38;5;66;03m# Binary mode\u001b[39;00m\n\u001b[0;32m--> 868\u001b[0m         handle \u001b[38;5;241m=\u001b[39m \u001b[38;5;28;43mopen\u001b[39;49m\u001b[43m(\u001b[49m\u001b[43mhandle\u001b[49m\u001b[43m,\u001b[49m\u001b[43m \u001b[49m\u001b[43mioargs\u001b[49m\u001b[38;5;241;43m.\u001b[39;49m\u001b[43mmode\u001b[49m\u001b[43m)\u001b[49m\n\u001b[1;32m    869\u001b[0m     handles\u001b[38;5;241m.\u001b[39mappend(handle)\n\u001b[1;32m    871\u001b[0m \u001b[38;5;66;03m# Convert BytesIO or file objects passed with an encoding\u001b[39;00m\n",
      "\u001b[0;31mFileNotFoundError\u001b[0m: [Errno 2] No such file or directory: '/media/D/musor/123.xls'"
     ]
    }
   ],
   "source": [
    "df = pd.read_excel('/media/D/musor/123.xls')"
   ]
  },
  {
   "cell_type": "code",
   "execution_count": 208,
   "id": "13f25c4b",
   "metadata": {},
   "outputs": [
    {
     "data": {
      "text/plain": [
       "Агент (владелец)\n",
       "Александр Кириченко    69.666667\n",
       "Алибек Тухбаев          2.766667\n",
       "Не назначена            0.100000\n",
       "Нурлан Сагындык        32.233333\n",
       "Name: Потраченное на заявку время, dtype: float64"
      ]
     },
     "execution_count": 208,
     "metadata": {},
     "output_type": "execute_result"
    }
   ],
   "source": [
    "df.groupby('Агент (владелец)')['Потраченное на заявку время'].sum() /60"
   ]
  },
  {
   "cell_type": "code",
   "execution_count": 209,
   "id": "de3d93ef",
   "metadata": {},
   "outputs": [
    {
     "data": {
      "text/plain": [
       "Index(['Номер', 'Ticket#', 'Возраст', 'Название', 'Дата создания',\n",
       "       'Время закрытия', 'Очередь', 'Состояние', 'ID клиента', 'Сервис', 'SLA',\n",
       "       'Тип', 'Агент (владелец)', 'Потраченное на заявку время',\n",
       "       'Дата первого ответа', 'Обработка', 'Количество сообщений',\n",
       "       'Глобальный инцидент', 'Источник', 'Причина отклонения', 'Оценка',\n",
       "       'Информационная система', 'Причина обращения', 'Имя Фамилия',\n",
       "       'Отдел/Отделение', 'Требуется выезд СА (уведомление директору)',\n",
       "       'Текст обращения', 'TestText2'],\n",
       "      dtype='object')"
      ]
     },
     "execution_count": 209,
     "metadata": {},
     "output_type": "execute_result"
    }
   ],
   "source": [
    "df.columns"
   ]
  },
  {
   "cell_type": "code",
   "execution_count": 210,
   "id": "9579fd31",
   "metadata": {},
   "outputs": [
    {
     "data": {
      "text/plain": [
       "0                     NaN\n",
       "1     2023-06-12 10:44:14\n",
       "2                     NaN\n",
       "3     2023-06-12 10:02:21\n",
       "4     2023-06-12 09:28:24\n",
       "             ...         \n",
       "93    2023-06-01 14:31:02\n",
       "94    2023-06-01 11:27:26\n",
       "95    2023-06-02 17:41:54\n",
       "96    2023-06-01 17:36:31\n",
       "97    2023-06-02 17:37:15\n",
       "Name: Время закрытия, Length: 98, dtype: object"
      ]
     },
     "execution_count": 210,
     "metadata": {},
     "output_type": "execute_result"
    }
   ],
   "source": [
    "df['Время закрытия']"
   ]
  },
  {
   "cell_type": "code",
   "execution_count": 211,
   "id": "f4e17eab",
   "metadata": {},
   "outputs": [],
   "source": [
    "df['Время закрытия'] = df['Время закрытия'].dropna(how='all')"
   ]
  },
  {
   "cell_type": "code",
   "execution_count": 212,
   "id": "fb8090ce",
   "metadata": {},
   "outputs": [
    {
     "data": {
      "text/plain": [
       "1    2023-06-12 10:44:14\n",
       "3    2023-06-12 10:02:21\n",
       "4    2023-06-12 09:28:24\n",
       "6    2023-06-12 10:00:09\n",
       "8    2023-06-12 10:02:48\n",
       "             ...        \n",
       "93   2023-06-01 14:31:02\n",
       "94   2023-06-01 11:27:26\n",
       "95   2023-06-02 17:41:54\n",
       "96   2023-06-01 17:36:31\n",
       "97   2023-06-02 17:37:15\n",
       "Name: Время закрытия, Length: 85, dtype: datetime64[ns]"
      ]
     },
     "execution_count": 212,
     "metadata": {},
     "output_type": "execute_result"
    }
   ],
   "source": [
    "pd.to_datetime(df['Время закрытия'].dropna(how='all'))"
   ]
  },
  {
   "cell_type": "code",
   "execution_count": 213,
   "id": "e7b255db",
   "metadata": {},
   "outputs": [],
   "source": [
    "time_str = pd.to_datetime(df['Время закрытия'],dayfirst=True)#.dt.strftime('%Y-%m-%d %H:%M:%S')"
   ]
  },
  {
   "cell_type": "code",
   "execution_count": 214,
   "id": "327eba85",
   "metadata": {},
   "outputs": [
    {
     "data": {
      "text/plain": [
       "0                    NaT\n",
       "1    2023-12-06 10:44:14\n",
       "2                    NaT\n",
       "3    2023-12-06 10:02:21\n",
       "4    2023-12-06 09:28:24\n",
       "             ...        \n",
       "93   2023-01-06 14:31:02\n",
       "94   2023-01-06 11:27:26\n",
       "95   2023-02-06 17:41:54\n",
       "96   2023-01-06 17:36:31\n",
       "97   2023-02-06 17:37:15\n",
       "Name: Время закрытия, Length: 98, dtype: datetime64[ns]"
      ]
     },
     "execution_count": 214,
     "metadata": {},
     "output_type": "execute_result"
    }
   ],
   "source": [
    "time_str"
   ]
  },
  {
   "cell_type": "code",
   "execution_count": 215,
   "id": "67e315cf",
   "metadata": {},
   "outputs": [],
   "source": [
    "df['Week_Number'] = time_str.dt.day_of_week"
   ]
  },
  {
   "cell_type": "code",
   "execution_count": 216,
   "id": "1edc1c1d",
   "metadata": {},
   "outputs": [
    {
     "data": {
      "text/plain": [
       "0     NaN\n",
       "1     2.0\n",
       "2     NaN\n",
       "3     2.0\n",
       "4     2.0\n",
       "     ... \n",
       "93    4.0\n",
       "94    4.0\n",
       "95    0.0\n",
       "96    4.0\n",
       "97    0.0\n",
       "Name: Week_Number, Length: 98, dtype: float64"
      ]
     },
     "execution_count": 216,
     "metadata": {},
     "output_type": "execute_result"
    }
   ],
   "source": [
    "df['Week_Number']"
   ]
  },
  {
   "cell_type": "code",
   "execution_count": 217,
   "id": "9f6044b9",
   "metadata": {},
   "outputs": [
    {
     "data": {
      "text/plain": [
       "0     NaN\n",
       "1     2.0\n",
       "2     NaN\n",
       "3     2.0\n",
       "4     2.0\n",
       "     ... \n",
       "93    4.0\n",
       "94    4.0\n",
       "95    0.0\n",
       "96    4.0\n",
       "97    0.0\n",
       "Name: Время закрытия, Length: 98, dtype: float64"
      ]
     },
     "execution_count": 217,
     "metadata": {},
     "output_type": "execute_result"
    }
   ],
   "source": [
    "time_str.dt.day_of_week"
   ]
  },
  {
   "cell_type": "code",
   "execution_count": 218,
   "id": "0415ba6c",
   "metadata": {},
   "outputs": [
    {
     "data": {
      "text/plain": [
       "Агент (владелец)     Week_Number\n",
       "Александр Кириченко  0.0            11.383333\n",
       "                     1.0            14.733333\n",
       "                     2.0             9.550000\n",
       "                     3.0             9.433333\n",
       "                     4.0            11.166667\n",
       "                     5.0             4.400000\n",
       "                     6.0             8.116667\n",
       "Алибек Тухбаев       0.0             1.033333\n",
       "                     3.0             0.200000\n",
       "                     4.0             0.166667\n",
       "                     5.0             1.350000\n",
       "Нурлан Сагындык      2.0             6.150000\n",
       "                     3.0             6.483333\n",
       "                     5.0             6.800000\n",
       "                     6.0            12.533333\n",
       "Name: Потраченное на заявку время, dtype: float64"
      ]
     },
     "execution_count": 218,
     "metadata": {},
     "output_type": "execute_result"
    }
   ],
   "source": [
    "df.groupby(['Агент (владелец)', 'Week_Number'])['Потраченное на заявку время'].sum() /60"
   ]
  },
  {
   "cell_type": "code",
   "execution_count": 219,
   "id": "e7e39d0b",
   "metadata": {},
   "outputs": [],
   "source": [
    "df['data'] = pd.to_datetime(df['Время закрытия'].dropna(how='all'),dayfirst=True)#.dt.strftime('%Y-%m-%d %H:%M:%S')"
   ]
  },
  {
   "cell_type": "code",
   "execution_count": 220,
   "id": "4248b118",
   "metadata": {},
   "outputs": [],
   "source": [
    "sort_df = df['data'].dt.date"
   ]
  },
  {
   "cell_type": "code",
   "execution_count": 221,
   "id": "01624b64",
   "metadata": {},
   "outputs": [],
   "source": [
    "sort_df = df.dropna(how='all')"
   ]
  },
  {
   "cell_type": "code",
   "execution_count": 222,
   "id": "7f7ee699",
   "metadata": {},
   "outputs": [],
   "source": [
    "df['data'] = sort_df['data'].dt.date"
   ]
  },
  {
   "cell_type": "code",
   "execution_count": null,
   "id": "28666bcb",
   "metadata": {},
   "outputs": [],
   "source": []
  },
  {
   "cell_type": "code",
   "execution_count": 223,
   "id": "e0f5751a",
   "metadata": {},
   "outputs": [],
   "source": [
    "#sort_df = df['date'].dropna(how='all')"
   ]
  },
  {
   "cell_type": "code",
   "execution_count": 224,
   "id": "ae01fff3",
   "metadata": {},
   "outputs": [
    {
     "data": {
      "text/html": [
       "<div>\n",
       "<style scoped>\n",
       "    .dataframe tbody tr th:only-of-type {\n",
       "        vertical-align: middle;\n",
       "    }\n",
       "\n",
       "    .dataframe tbody tr th {\n",
       "        vertical-align: top;\n",
       "    }\n",
       "\n",
       "    .dataframe thead th {\n",
       "        text-align: right;\n",
       "    }\n",
       "</style>\n",
       "<table border=\"1\" class=\"dataframe\">\n",
       "  <thead>\n",
       "    <tr style=\"text-align: right;\">\n",
       "      <th></th>\n",
       "      <th>Время закрытия</th>\n",
       "      <th>data</th>\n",
       "    </tr>\n",
       "  </thead>\n",
       "  <tbody>\n",
       "    <tr>\n",
       "      <th>0</th>\n",
       "      <td>NaN</td>\n",
       "      <td>NaT</td>\n",
       "    </tr>\n",
       "    <tr>\n",
       "      <th>1</th>\n",
       "      <td>2023-06-12 10:44:14</td>\n",
       "      <td>2023-12-06</td>\n",
       "    </tr>\n",
       "    <tr>\n",
       "      <th>2</th>\n",
       "      <td>NaN</td>\n",
       "      <td>NaT</td>\n",
       "    </tr>\n",
       "    <tr>\n",
       "      <th>3</th>\n",
       "      <td>2023-06-12 10:02:21</td>\n",
       "      <td>2023-12-06</td>\n",
       "    </tr>\n",
       "    <tr>\n",
       "      <th>4</th>\n",
       "      <td>2023-06-12 09:28:24</td>\n",
       "      <td>2023-12-06</td>\n",
       "    </tr>\n",
       "    <tr>\n",
       "      <th>...</th>\n",
       "      <td>...</td>\n",
       "      <td>...</td>\n",
       "    </tr>\n",
       "    <tr>\n",
       "      <th>93</th>\n",
       "      <td>2023-06-01 14:31:02</td>\n",
       "      <td>2023-01-06</td>\n",
       "    </tr>\n",
       "    <tr>\n",
       "      <th>94</th>\n",
       "      <td>2023-06-01 11:27:26</td>\n",
       "      <td>2023-01-06</td>\n",
       "    </tr>\n",
       "    <tr>\n",
       "      <th>95</th>\n",
       "      <td>2023-06-02 17:41:54</td>\n",
       "      <td>2023-02-06</td>\n",
       "    </tr>\n",
       "    <tr>\n",
       "      <th>96</th>\n",
       "      <td>2023-06-01 17:36:31</td>\n",
       "      <td>2023-01-06</td>\n",
       "    </tr>\n",
       "    <tr>\n",
       "      <th>97</th>\n",
       "      <td>2023-06-02 17:37:15</td>\n",
       "      <td>2023-02-06</td>\n",
       "    </tr>\n",
       "  </tbody>\n",
       "</table>\n",
       "<p>98 rows × 2 columns</p>\n",
       "</div>"
      ],
      "text/plain": [
       "         Время закрытия        data\n",
       "0                   NaN         NaT\n",
       "1   2023-06-12 10:44:14  2023-12-06\n",
       "2                   NaN         NaT\n",
       "3   2023-06-12 10:02:21  2023-12-06\n",
       "4   2023-06-12 09:28:24  2023-12-06\n",
       "..                  ...         ...\n",
       "93  2023-06-01 14:31:02  2023-01-06\n",
       "94  2023-06-01 11:27:26  2023-01-06\n",
       "95  2023-06-02 17:41:54  2023-02-06\n",
       "96  2023-06-01 17:36:31  2023-01-06\n",
       "97  2023-06-02 17:37:15  2023-02-06\n",
       "\n",
       "[98 rows x 2 columns]"
      ]
     },
     "execution_count": 224,
     "metadata": {},
     "output_type": "execute_result"
    }
   ],
   "source": [
    "df[['Время закрытия', 'data']]"
   ]
  },
  {
   "cell_type": "code",
   "execution_count": null,
   "id": "5bb52e59",
   "metadata": {},
   "outputs": [],
   "source": []
  },
  {
   "cell_type": "code",
   "execution_count": 231,
   "id": "b3e6caea",
   "metadata": {},
   "outputs": [],
   "source": [
    "time_str.dropna(inplace=True)"
   ]
  },
  {
   "cell_type": "code",
   "execution_count": 232,
   "id": "ede35775",
   "metadata": {},
   "outputs": [],
   "source": [
    "df['data1'] = pd.to_datetime(time_str, format='%Y-%m-%d').dt.date"
   ]
  },
  {
   "cell_type": "code",
   "execution_count": 227,
   "id": "9f3d1dd4",
   "metadata": {},
   "outputs": [],
   "source": [
    "#df['data1'] = pd.to_datetime(df['data1'])"
   ]
  },
  {
   "cell_type": "code",
   "execution_count": 228,
   "id": "8c842a57",
   "metadata": {},
   "outputs": [],
   "source": [
    "#df = df.set_index('data1')"
   ]
  },
  {
   "cell_type": "code",
   "execution_count": 229,
   "id": "5963b94f",
   "metadata": {},
   "outputs": [],
   "source": [
    "#df.dropna(inplace=True)"
   ]
  },
  {
   "cell_type": "code",
   "execution_count": 238,
   "id": "b19d375d",
   "metadata": {},
   "outputs": [
    {
     "data": {
      "text/plain": [
       "1     2023-12-06\n",
       "3     2023-12-06\n",
       "4     2023-12-06\n",
       "6     2023-12-06\n",
       "8     2023-12-06\n",
       "         ...    \n",
       "93    2023-01-06\n",
       "94    2023-01-06\n",
       "95    2023-02-06\n",
       "96    2023-01-06\n",
       "97    2023-02-06\n",
       "Name: data1, Length: 85, dtype: object"
      ]
     },
     "execution_count": 238,
     "metadata": {},
     "output_type": "execute_result"
    }
   ],
   "source": [
    "df['data1'].dropna(axis=0)"
   ]
  },
  {
   "cell_type": "code",
   "execution_count": null,
   "id": "0935547d",
   "metadata": {},
   "outputs": [],
   "source": []
  }
 ],
 "metadata": {
  "kernelspec": {
   "display_name": "Python 3 (ipykernel)",
   "language": "python",
   "name": "python3"
  },
  "language_info": {
   "codemirror_mode": {
    "name": "ipython",
    "version": 3
   },
   "file_extension": ".py",
   "mimetype": "text/x-python",
   "name": "python",
   "nbconvert_exporter": "python",
   "pygments_lexer": "ipython3",
   "version": "3.11.0rc1"
  }
 },
 "nbformat": 4,
 "nbformat_minor": 5
}
