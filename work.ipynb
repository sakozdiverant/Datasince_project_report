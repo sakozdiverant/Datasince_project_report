{
 "cells": [
  {
   "cell_type": "code",
   "execution_count": 13,
   "id": "9a3ba775",
   "metadata": {},
   "outputs": [],
   "source": [
    "import pandas as pd\n",
    "import numpy as np"
   ]
  },
  {
   "cell_type": "code",
   "execution_count": 14,
   "id": "ddf0fa16",
   "metadata": {},
   "outputs": [],
   "source": [
    "df = pd.read_excel('all.xlsx')"
   ]
  },
  {
   "cell_type": "code",
   "execution_count": 15,
   "id": "3bbf9abd",
   "metadata": {},
   "outputs": [],
   "source": [
    "work = pd.DataFrame()\n",
    "pd.options.mode.chained_assignment = None\n",
    "stolb = ['Филиал в городе Шымкент', 'Unnamed: 1', 'Unnamed: 2', 'Unnamed: 3']"
   ]
  },
  {
   "cell_type": "code",
   "execution_count": 16,
   "id": "425393b3",
   "metadata": {},
   "outputs": [],
   "source": [
    "def otdele(colum_1):\n",
    "    if 'Отделение' in colum_1 or 'УК ШФ' in colum_1 :\n",
    "        return True\n",
    "    else:\n",
    "        return False"
   ]
  },
  {
   "cell_type": "code",
   "execution_count": 222,
   "id": "793fe10f",
   "metadata": {},
   "outputs": [],
   "source": [
    "def add_otdel(colum):\n",
    "    otdelen = df[df['Филиал в городе Шымкент'].apply(otdele)]\n",
    "    otdelen = otdelen['Филиал в городе Шымкент']\n",
    "    i = work.index[work['Инвентарный'] == colum].tolist()[0]\n",
    "    end_index = len(otdelen.index) - 1\n",
    "    for start_index in otdelen.index: \n",
    "        \n",
    "        if start_index < i:\n",
    "            indices = [ind for ind in range(0, len(otdelen.index)) if otdelen.index[ind]==start_index]\n",
    "            name_otdel = otdelen[otdelen.index[indices[0] - 1]]\n",
    "            return str(name_otdel)\n",
    "        elif start_index == otdelen.index[end_index]:                  \n",
    "            name_otdel = otdelen[otdelen.index[end_index]]\n",
    "            return str(name_otdel)\n",
    "        "
   ]
  },
  {
   "cell_type": "code",
   "execution_count": 131,
   "id": "2e615ae3",
   "metadata": {},
   "outputs": [],
   "source": [
    "def MOL(name):    \n",
    "    i = work.index[work['Инвентарный'] == name].tolist()[0] + 2 \n",
    "    fio = str(df[df.index == i]['Филиал в городе Шымкент'])\n",
    "    fio = fio.split('\\n')[0].split(str(i))[1].strip()\n",
    "    return fio"
   ]
  },
  {
   "cell_type": "code",
   "execution_count": 19,
   "id": "dbeaf6ac",
   "metadata": {},
   "outputs": [],
   "source": [
    "df.drop(labels=[0,1,2,3,4,5], axis=0, inplace=True)\n",
    "work = df[df['Unnamed: 1'].notnull()]\n",
    "work.drop(labels=['Unnamed: 3', 'Unnamed: 2'], axis=1, inplace=True)\n",
    "work.columns = ['Инвентарный', 'ОС']\n",
    "test1 = pd.core.series.Series(data=['1'], index=[2])"
   ]
  },
  {
   "cell_type": "code",
   "execution_count": 132,
   "id": "a1fea3be",
   "metadata": {},
   "outputs": [],
   "source": [
    "work['ФИО'] = work['Инвентарный'].apply(MOL)"
   ]
  },
  {
   "cell_type": "code",
   "execution_count": 223,
   "id": "08bebbea",
   "metadata": {},
   "outputs": [],
   "source": [
    "work['Отделение'] = work['Инвентарный'].apply(add_otdel)"
   ]
  },
  {
   "cell_type": "code",
   "execution_count": 224,
   "id": "e917db74",
   "metadata": {},
   "outputs": [
    {
     "data": {
      "text/html": [
       "<div>\n",
       "<style scoped>\n",
       "    .dataframe tbody tr th:only-of-type {\n",
       "        vertical-align: middle;\n",
       "    }\n",
       "\n",
       "    .dataframe tbody tr th {\n",
       "        vertical-align: top;\n",
       "    }\n",
       "\n",
       "    .dataframe thead th {\n",
       "        text-align: right;\n",
       "    }\n",
       "</style>\n",
       "<table border=\"1\" class=\"dataframe\">\n",
       "  <thead>\n",
       "    <tr style=\"text-align: right;\">\n",
       "      <th></th>\n",
       "      <th>Инвентарный</th>\n",
       "      <th>ОС</th>\n",
       "      <th>ФИО</th>\n",
       "      <th>Отделение</th>\n",
       "    </tr>\n",
       "  </thead>\n",
       "  <tbody>\n",
       "    <tr>\n",
       "      <th>13715</th>\n",
       "      <td>DD-000860</td>\n",
       "      <td>Шкаф открытый</td>\n",
       "      <td>Гибадулина Татьяна Васильевна</td>\n",
       "      <td>УК ШФ</td>\n",
       "    </tr>\n",
       "    <tr>\n",
       "      <th>13718</th>\n",
       "      <td>DD-004712</td>\n",
       "      <td>ЭлектроннаяОчередь Терминал управления</td>\n",
       "      <td>Гибадулина Татьяна Васильевна</td>\n",
       "      <td>УК ШФ</td>\n",
       "    </tr>\n",
       "    <tr>\n",
       "      <th>13722</th>\n",
       "      <td>DD-002068</td>\n",
       "      <td>SPA301-G2 IP  телефон 1 Line IP Phone</td>\n",
       "      <td>Сейткулов Абзал Ардакулы</td>\n",
       "      <td>УК ШФ</td>\n",
       "    </tr>\n",
       "    <tr>\n",
       "      <th>13725</th>\n",
       "      <td>DD-002309</td>\n",
       "      <td>UPS 600 VA</td>\n",
       "      <td>Сейткулов Абзал Ардакулы</td>\n",
       "      <td>УК ШФ</td>\n",
       "    </tr>\n",
       "    <tr>\n",
       "      <th>13728</th>\n",
       "      <td>DD-006609</td>\n",
       "      <td>Бесперебойный SVC, V-800-L-LCD, Мощность 800ВА...</td>\n",
       "      <td>Сейткулов Абзал Ардакулы</td>\n",
       "      <td>УК ШФ</td>\n",
       "    </tr>\n",
       "    <tr>\n",
       "      <th>13731</th>\n",
       "      <td>DD-004676</td>\n",
       "      <td>Бесперебойный UPS SVC V-600-L Smart</td>\n",
       "      <td>Сейткулов Абзал Ардакулы</td>\n",
       "      <td>УК ШФ</td>\n",
       "    </tr>\n",
       "    <tr>\n",
       "      <th>13734</th>\n",
       "      <td>DD-004808</td>\n",
       "      <td>Бесперебойный UPS SVC V-600F</td>\n",
       "      <td>Сейткулов Абзал Ардакулы</td>\n",
       "      <td>УК ШФ</td>\n",
       "    </tr>\n",
       "    <tr>\n",
       "      <th>13737</th>\n",
       "      <td>DD-004817</td>\n",
       "      <td>Бесперебойный UPS SVC V-600F</td>\n",
       "      <td>Сейткулов Абзал Ардакулы</td>\n",
       "      <td>УК ШФ</td>\n",
       "    </tr>\n",
       "    <tr>\n",
       "      <th>13740</th>\n",
       "      <td>DD-002533</td>\n",
       "      <td>Бесперебойный UPS SVC/V-600-F/600</td>\n",
       "      <td>Сейткулов Абзал Ардакулы</td>\n",
       "      <td>УК ШФ</td>\n",
       "    </tr>\n",
       "    <tr>\n",
       "      <th>13743</th>\n",
       "      <td>DD-003555</td>\n",
       "      <td>Бесперебойный источник питания UPS 600 VA</td>\n",
       "      <td>Сейткулов Абзал Ардакулы</td>\n",
       "      <td>УК ШФ</td>\n",
       "    </tr>\n",
       "  </tbody>\n",
       "</table>\n",
       "</div>"
      ],
      "text/plain": [
       "      Инвентарный                                                 ОС  \\\n",
       "13715   DD-000860                                      Шкаф открытый   \n",
       "13718   DD-004712             ЭлектроннаяОчередь Терминал управления   \n",
       "13722   DD-002068              SPA301-G2 IP  телефон 1 Line IP Phone   \n",
       "13725   DD-002309                                         UPS 600 VA   \n",
       "13728   DD-006609  Бесперебойный SVC, V-800-L-LCD, Мощность 800ВА...   \n",
       "13731   DD-004676                Бесперебойный UPS SVC V-600-L Smart   \n",
       "13734   DD-004808                      Бесперебойный UPS SVC V-600F    \n",
       "13737   DD-004817                      Бесперебойный UPS SVC V-600F    \n",
       "13740   DD-002533                 Бесперебойный UPS SVC/V-600-F/600    \n",
       "13743   DD-003555          Бесперебойный источник питания UPS 600 VA   \n",
       "\n",
       "                                 ФИО Отделение  \n",
       "13715  Гибадулина Татьяна Васильевна     УК ШФ  \n",
       "13718  Гибадулина Татьяна Васильевна     УК ШФ  \n",
       "13722       Сейткулов Абзал Ардакулы     УК ШФ  \n",
       "13725       Сейткулов Абзал Ардакулы     УК ШФ  \n",
       "13728       Сейткулов Абзал Ардакулы     УК ШФ  \n",
       "13731       Сейткулов Абзал Ардакулы     УК ШФ  \n",
       "13734       Сейткулов Абзал Ардакулы     УК ШФ  \n",
       "13737       Сейткулов Абзал Ардакулы     УК ШФ  \n",
       "13740       Сейткулов Абзал Ардакулы     УК ШФ  \n",
       "13743       Сейткулов Абзал Ардакулы     УК ШФ  "
      ]
     },
     "execution_count": 224,
     "metadata": {},
     "output_type": "execute_result"
    }
   ],
   "source": [
    "work[work.index > 13721 - 7].head(10)"
   ]
  },
  {
   "cell_type": "code",
   "execution_count": 138,
   "id": "ff9f6ee1",
   "metadata": {},
   "outputs": [],
   "source": [
    "work.to_excel('123.xlsx',index=False)"
   ]
  },
  {
   "cell_type": "code",
   "execution_count": 216,
   "id": "2d3e4f40",
   "metadata": {},
   "outputs": [
    {
     "data": {
      "text/plain": [
       "2"
      ]
     },
     "execution_count": 216,
     "metadata": {},
     "output_type": "execute_result"
    }
   ],
   "source": [
    "otdelen = df[df['Филиал в городе Шымкент'].apply(otdele)]\n",
    "\n",
    "indices = [i for i in range(0, len(otdelen.index)) if otdelen.index[i]==1949]\n",
    "indices[0]"
   ]
  },
  {
   "cell_type": "code",
   "execution_count": null,
   "id": "0ddc7de0",
   "metadata": {},
   "outputs": [],
   "source": []
  },
  {
   "cell_type": "code",
   "execution_count": null,
   "id": "e1237506",
   "metadata": {},
   "outputs": [],
   "source": []
  }
 ],
 "metadata": {
  "kernelspec": {
   "display_name": "Python 3 (ipykernel)",
   "language": "python",
   "name": "python3"
  },
  "language_info": {
   "codemirror_mode": {
    "name": "ipython",
    "version": 3
   },
   "file_extension": ".py",
   "mimetype": "text/x-python",
   "name": "python",
   "nbconvert_exporter": "python",
   "pygments_lexer": "ipython3",
   "version": "3.10.12"
  }
 },
 "nbformat": 4,
 "nbformat_minor": 5
}
